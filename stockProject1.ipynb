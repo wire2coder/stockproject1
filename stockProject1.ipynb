{
 "cells": [
  {
   "cell_type": "code",
   "execution_count": 1,
   "metadata": {},
   "outputs": [
    {
     "ename": "IndexError",
     "evalue": "list index out of range",
     "output_type": "error",
     "traceback": [
      "\u001b[0;31m---------------------------------------------------------------------------\u001b[0m",
      "\u001b[0;31mIndexError\u001b[0m                                Traceback (most recent call last)",
      "\u001b[0;32m<ipython-input-1-82c5028fb760>\u001b[0m in \u001b[0;36m<module>\u001b[0;34m\u001b[0m\n\u001b[1;32m     60\u001b[0m \u001b[0;34m\u001b[0m\u001b[0m\n\u001b[1;32m     61\u001b[0m \u001b[0;31m# running function Key_Stats()\u001b[0m\u001b[0;34m\u001b[0m\u001b[0;34m\u001b[0m\u001b[0;34m\u001b[0m\u001b[0m\n\u001b[0;32m---> 62\u001b[0;31m \u001b[0mKey_Stats\u001b[0m\u001b[0;34m(\u001b[0m\u001b[0;34m)\u001b[0m\u001b[0;34m\u001b[0m\u001b[0;34m\u001b[0m\u001b[0m\n\u001b[0m",
      "\u001b[0;32m<ipython-input-1-82c5028fb760>\u001b[0m in \u001b[0;36mKey_Stats\u001b[0;34m(gather)\u001b[0m\n\u001b[1;32m     25\u001b[0m \u001b[0;34m\u001b[0m\u001b[0m\n\u001b[1;32m     26\u001b[0m         \u001b[0;31m# get the 'ticker symbol' >> ['./intraQuarter/_KeyStats', 'aci']\u001b[0m\u001b[0;34m\u001b[0m\u001b[0;34m\u001b[0m\u001b[0;34m\u001b[0m\u001b[0m\n\u001b[0;32m---> 27\u001b[0;31m         \u001b[0mticker\u001b[0m \u001b[0;34m=\u001b[0m \u001b[0meach_dir\u001b[0m\u001b[0;34m.\u001b[0m\u001b[0msplit\u001b[0m\u001b[0;34m(\u001b[0m \u001b[0;34m\"\\\\\"\u001b[0m \u001b[0;34m)\u001b[0m \u001b[0;34m[\u001b[0m\u001b[0;36m1\u001b[0m\u001b[0;34m]\u001b[0m\u001b[0;34m\u001b[0m\u001b[0;34m\u001b[0m\u001b[0m\n\u001b[0m\u001b[1;32m     28\u001b[0m \u001b[0;34m\u001b[0m\u001b[0m\n\u001b[1;32m     29\u001b[0m         \u001b[0;31m# checking the 'file length'\u001b[0m\u001b[0;34m\u001b[0m\u001b[0;34m\u001b[0m\u001b[0;34m\u001b[0m\u001b[0m\n",
      "\u001b[0;31mIndexError\u001b[0m: list index out of range"
     ]
    }
   ],
   "source": [
    "import pandas as pd\n",
    "import os\n",
    "import time\n",
    "from datetime import datetime\n",
    "\n",
    "\n",
    "path = \"./intraQuarter\"\n",
    "# os.path.join()\n",
    "print()\n",
    "\n",
    "\n",
    "\n",
    "def Key_Stats(gather=\"Total Debt/Equity (mrq)\"):\n",
    "    \n",
    "    # make new 'data frame' with PANDA\n",
    "    df1 = pd.DataFrame( columns = ['Date','Unix','Ticker','DE Ratio'] )\n",
    "\n",
    "    statspath = path + '/_KeyStats'\n",
    "    stock_list = [ x[0] for x in os.walk(statspath) ]\n",
    "\n",
    "    #for x in os.walk(statspath):\n",
    "        #print(\"x here\", x[0]) >> x here ./intraQuarter/_KeyStats\\aapl\n",
    "\n",
    "    for each_dir in stock_list[1:]:\n",
    "        \n",
    "        # 'list' files in each folder\n",
    "        each_file = os.listdir(each_dir)\n",
    "        \n",
    "        # get the 'ticker symbol' >> ['./intraQuarter/_KeyStats', 'aci']\n",
    "        ticker = each_dir.split( \"\\\\\" ) [1]\n",
    "        \n",
    "        # checking the 'file length'\n",
    "        if len(each_file) > 0:\n",
    "            for file in each_file:\n",
    "                datetime1 = datetime.strptime(file, '%Y%m%d%H%M%S.html')\n",
    "                unixtime1 = time.mktime( datetime1.timetuple() )\n",
    "                \n",
    "                #print(datetime1, unixtime1)\n",
    "            \n",
    "            # get the full file path, ./intraQuarter/_KeyStats\\aapl/20130811023032.html\n",
    "            full_file_path = each_dir+'/'+file\n",
    "\n",
    "            # open file 'read only'\n",
    "            source_code = open(full_file_path, 'r').read()\n",
    "            \n",
    "            try: \n",
    "                value = float( source_code.split( gather + ':</td><td class=\"yfnc_tabledata1\">' )[1].split('</td>')[0] ) \n",
    "                #print(ticker + \":\" + value)\n",
    "                \n",
    "                # 'add' data to 'data frame'\n",
    "                df1 = df1.append({'Date':datetime1, 'Unix':unixtime1, 'Ticker':ticker, 'DE Ratio':value}, ignore_index = True)\n",
    "                \n",
    "\n",
    "            except Exception as e:\n",
    "                pass\n",
    "            \n",
    "    # this is just a really stupid way to make a file name, nothing speci al\n",
    "    save_name = gather.replace(' ', '').replace(')', '').replace( '(', '').replace('/', '')+('.csv')\n",
    "    \n",
    "    # save data to '.csv' file\n",
    "    df1.to_csv(save_name)\n",
    "\n",
    "            \n",
    "# running function Key_Stats()\n",
    "# Key_Stats()"
   ]
  },
  {
   "cell_type": "code",
   "execution_count": null,
   "metadata": {},
   "outputs": [],
   "source": []
  }
 ],
 "metadata": {
  "kernelspec": {
   "display_name": "Python 3",
   "language": "python",
   "name": "python3"
  },
  "language_info": {
   "codemirror_mode": {
    "name": "ipython",
    "version": 3
   },
   "file_extension": ".py",
   "mimetype": "text/x-python",
   "name": "python",
   "nbconvert_exporter": "python",
   "pygments_lexer": "ipython3",
   "version": "3.7.1"
  }
 },
 "nbformat": 4,
 "nbformat_minor": 4
}
